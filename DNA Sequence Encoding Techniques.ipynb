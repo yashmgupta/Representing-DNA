{
 "cells": [
  {
   "cell_type": "markdown",
   "id": "173c1196",
   "metadata": {},
   "source": [
    "Representing DNA for Machine Learning Algorithms: A Primer on One-Hot, Binary, and Integer Encodings"
   ]
  },
  {
   "cell_type": "markdown",
   "id": "f29c789c",
   "metadata": {},
   "source": [
    "\n",
    "This paper presents study of three popular methods for encoding DNA sequences: one-hot encoding, binary encoding, and integer encoding. DNA sequence encoding is an essential step in various bioinformatics and computational biology applications, enabling efficient representation and analysis of genetic data. Each encoding technique transforms the nucleotide-based DNA sequence into a numeric or binary representation, allowing for further computational processing and analysis.\n",
    "\n"
   ]
  },
  {
   "cell_type": "markdown",
   "id": "95d72c70",
   "metadata": {},
   "source": [
    "--------------------------------------------------------------------------------------------------------------------------------"
   ]
  },
  {
   "cell_type": "markdown",
   "id": "ed86395b",
   "metadata": {},
   "source": [
    "The provided Python code demonstrates three different methods for encoding DNA sequences: one-hot encoding, binary encoding, and integer encoding."
   ]
  },
  {
   "cell_type": "markdown",
   "id": "81e584f8",
   "metadata": {},
   "source": [
    "1. One-hot encoding:\n",
    "\n",
    "In one-hot encoding, each nucleotide is represented as a binary vector with all elements set to 0 except for the index corresponding to the nucleotide, which is set to 1. The one-hot encoding is stored in a 2D NumPy array where each row corresponds to the one-hot encoded representation of the DNA sequence."
   ]
  },
  {
   "cell_type": "code",
   "execution_count": 9,
   "id": "422c6732",
   "metadata": {},
   "outputs": [
    {
     "name": "stdout",
     "output_type": "stream",
     "text": [
      "[[1. 0. 0. 0.]\n",
      " [0. 1. 0. 0.]\n",
      " [0. 0. 1. 0.]\n",
      " [0. 0. 0. 1.]\n",
      " [0. 0. 0. 1.]\n",
      " [0. 1. 0. 0.]\n",
      " [1. 0. 0. 0.]\n",
      " [0. 0. 1. 0.]\n",
      " [0. 1. 0. 0.]\n",
      " [0. 1. 0. 0.]\n",
      " [1. 0. 0. 0.]\n",
      " [0. 0. 0. 1.]\n",
      " [0. 0. 1. 0.]]\n"
     ]
    }
   ],
   "source": [
    "import numpy as np\n",
    "\n",
    "# Sample DNA sequence\n",
    "dna = 'ATGCCTAGTTACG' \n",
    "\n",
    "# Define nucleotides to encode\n",
    "nucleotides = 'ATGC'\n",
    "\n",
    "# Create a mapping from nucleotides to indices\n",
    "encoding = {nucleotide: i for i, nucleotide in enumerate(nucleotides)}\n",
    "\n",
    "# Initialize one-hot encoded array \n",
    "one_hot_encoded = np.zeros((len(dna), len(nucleotides)))\n",
    "\n",
    "# One-hot encode the sequence\n",
    "for i, nucleotide in enumerate(dna):\n",
    "    one_hot_encoded[i, encoding[nucleotide]] = 1\n",
    "        \n",
    "print(one_hot_encoded)"
   ]
  },
  {
   "cell_type": "markdown",
   "id": "ff5ce021",
   "metadata": {},
   "source": [
    "---------------------------------------------------------------------------------------------------------------------------------"
   ]
  },
  {
   "cell_type": "markdown",
   "id": "7c1a146f",
   "metadata": {},
   "source": [
    "2. Binary encoding:\n",
    "    \n",
    "Two bits to represent each nucleotide, which is the actual principle behind Binary Encoding in the context you're working with (DNA sequences). Each nucleotide is encoded into a binary pair, reducing the representation size compared to One-hot Encoding."
   ]
  },
  {
   "cell_type": "code",
   "execution_count": 2,
   "id": "6091dfb6",
   "metadata": {},
   "outputs": [
    {
     "name": "stdout",
     "output_type": "stream",
     "text": [
      "\n",
      "Binary encoded:\n",
      " [[0 0]\n",
      " [0 1]\n",
      " [1 0]\n",
      " [1 1]\n",
      " [1 1]\n",
      " [0 1]\n",
      " [0 0]\n",
      " [1 0]\n",
      " [0 1]\n",
      " [0 1]\n",
      " [0 0]\n",
      " [1 1]\n",
      " [1 0]]\n"
     ]
    }
   ],
   "source": [
    "import numpy as np\n",
    "\n",
    "dna = 'ATGCCTAGTTACG'\n",
    "\n",
    "# Define binary mapping for each nucleotide\n",
    "# Note: The representation here can vary based on convention; this is just one example.\n",
    "binary_map = {'A': [0, 0],  # Represented as 00 in binary\n",
    "              'T': [0, 1],  # Represented as 01 in binary\n",
    "              'G': [1, 0],  # Represented as 10 in binary\n",
    "              'C': [1, 1]}  # Represented as 11 in binary\n",
    "\n",
    "# Perform binary encoding\n",
    "binary_encoded = np.array([binary_map[nucleotide] for nucleotide in dna])\n",
    "\n",
    "print('\\nBinary encoded:\\n', binary_encoded)\n"
   ]
  },
  {
   "cell_type": "markdown",
   "id": "de1d814f",
   "metadata": {},
   "source": [
    "---------------------------------------------------------------------------------------------------------------------------------"
   ]
  },
  {
   "cell_type": "markdown",
   "id": "738f6fa6",
   "metadata": {},
   "source": [
    "3. Integer encoding:\n",
    "\n",
    "In integer encoding, each nucleotide is represented as an integer value based on a mapping defined for each nucleotide. The integer encoding is stored in a 1D NumPy array."
   ]
  },
  {
   "cell_type": "code",
   "execution_count": 7,
   "id": "c582b870",
   "metadata": {},
   "outputs": [
    {
     "name": "stdout",
     "output_type": "stream",
     "text": [
      "\n",
      "Integer encoded:\n",
      " [0, 1, 2, 3, 3, 1, 0, 2, 1, 1, 0, 3, 2]\n"
     ]
    }
   ],
   "source": [
    "import numpy as np\n",
    "\n",
    "dna = 'ATGCCTAGTTACG'\n",
    "\n",
    "# Define integer mapping for each nucleotide\n",
    "int_map = {'A': 0, 'T': 1, 'G': 2, 'C': 3}\n",
    "\n",
    "# Perform integer encoding\n",
    "int_encoded = [int_map[nucleotide] for nucleotide in dna]\n",
    "\n",
    "print('\\nInteger encoded:\\n', int_encoded)\n"
   ]
  },
  {
   "cell_type": "markdown",
   "id": "03302512",
   "metadata": {},
   "source": [
    "--------------------------------------------------------------------------------------------------------------------------------"
   ]
  },
  {
   "cell_type": "markdown",
   "id": "0039f471",
   "metadata": {},
   "source": [
    "Each encoding method provides a different representation of the input DNA sequence, with its specific advantages and use cases in various applications."
   ]
  },
  {
   "cell_type": "code",
   "execution_count": null,
   "id": "dbaa80de",
   "metadata": {},
   "outputs": [],
   "source": []
  }
 ],
 "metadata": {
  "kernelspec": {
   "display_name": "Python 3 (ipykernel)",
   "language": "python",
   "name": "python3"
  },
  "language_info": {
   "codemirror_mode": {
    "name": "ipython",
    "version": 3
   },
   "file_extension": ".py",
   "mimetype": "text/x-python",
   "name": "python",
   "nbconvert_exporter": "python",
   "pygments_lexer": "ipython3",
   "version": "3.9.7"
  }
 },
 "nbformat": 4,
 "nbformat_minor": 5
}
